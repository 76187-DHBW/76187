import pandas as pd
import numpy as np
import matplotlib.pyplot as plt
from scipy.interpolate import interp1d


# The CSV file is loaded with a header.
# The volumetric flow rate per hour is then converted to flow rate per second.

url = 'https://raw.githubusercontent.com/76187-DHBW/76187/refs/heads/main/volume_flow_data.csv'
df = pd.read_csv(url, sep=',')
df.columns = ['timestamp', 'flow_rate_m3h']
df['timestamp'] = pd.to_datetime(df['timestamp'], format='%Y-%m-%d %H:%M:%S')
df['flow_rate_m3s'] = df['flow_rate_m3h'] / 3600
df['time_delta_s'] = df['timestamp'].diff().dt.total_seconds()
df = df.dropna().reset_index(drop=True)  


# A pump characteristic curve is created by interpolating the given values
# and the required constants are defined
# Density of the fluid (rho)
# Gravitational acceleration (g)

flow_m3h = np.array([0, 50, 100, 150, 200, 250, 300, 350, 400, 450, 500, 550])  
head_m = np.array([23.5, 23.5, 23.25, 22.75, 22.5, 21.9, 21, 20, 18.5, 17.5, 16, 14.5])     
head_interpolator = interp1d(flow_m3h, head_m, bounds_error=False, fill_value="extrapolate")
df['head_m'] = head_interpolator(df['flow_rate_m3h'])
rho = 969   #[kg/m³]
g = 9.81    #[m/s²]


# Task 1: Calculation of Energy Consumption
# The rated power is taken from the attached datasheet

df['P_hydr'] = rho * g * df['flow_rate_m3s'] * df['head_m']                                             # [W]
flow_for_input_power = np.array([0, 50, 100, 150, 200, 250, 300, 350, 400, 450, 500, 550])              # m³/h
input_power_kW = np.array([12.25, 13.75, 15.5, 16.75, 18, 19.75, 21, 22.21, 23.25, 24, 24.5, 25.5])     # kW
input_power_interpolator = interp1d(flow_for_input_power, input_power_kW, bounds_error=False, fill_value="extrapolate")
df['P_input'] = input_power_interpolator(df['flow_rate_m3h']) * 1000                                    # [W]
df['E_input'] = df['P_input'] * df['time_delta_s']
total_E_input_kWh = df['E_input'].sum() / 3.6e6

print(f"Task 1 - Total Energy: {total_E_input_kWh:.2f} kWh")


# Task 2: Calculation of the average efficiency

df['E_hydr'] = df['P_hydr'] * df['time_delta_s']
total_E_hydr_kWh = df['E_hydr'].sum() / 3.6e6
pump_efficiency = (total_E_hydr_kWh / total_E_input_kWh) * 100
print(f"Task 2 - Average pump efficiency: {pump_efficiency:.2f} %")


# Task 3: Calculation of Power Losses

unused_energy_kWh = total_E_input_kWh - total_E_hydr_kWh
print(f"Task 3 - Unused Energy: {unused_energy_kWh:.2f} kWh")


# Task 4: Plotting the Results

print(f"Task 4 - Plotting the Results:")
df['P_input_kW'] = df['P_input'] / 1000
df['P_hydr_kW'] = df['P_hydr'] / 1000
df['Power_Loss_kW'] = df['P_input_kW'] - df['P_hydr_kW']
df_smoothed = df[['timestamp', 'flow_rate_m3h', 'P_hydr_kW', 'P_input_kW', 'Power_Loss_kW']].copy()
df_smoothed[['flow_rate_m3h', 'P_hydr_kW', 'P_input_kW', 'Power_Loss_kW']] = df_smoothed[['flow_rate_m3h', 'P_hydr_kW', 'P_input_kW', 'Power_Loss_kW']].rolling(window=5, center=True).mean()


plt.rcParams.update({
    'font.size': 12,
    'axes.labelsize': 12,
    'axes.titlesize': 12,
    'xtick.labelsize': 10,
    'ytick.labelsize': 10,
    'legend.fontsize': 10,
    'figure.titlesize': 16})

# Plot 1: Volumetric Flow Rate Over Time
plt.figure(figsize=(14, 5))
plt.plot(df_smoothed['timestamp'], df_smoothed['flow_rate_m3h'], color='green', linewidth=1)
plt.title('Volumetric Flow Rate Over Time')
plt.xlabel('Time')
plt.ylabel('Volumetric Flow Rate [m³/h]')
plt.grid(True)
plt.xticks(rotation=45)
plt.tight_layout()
plt.show()

# Plot 2: Hydraulic Power vs. Input Power
plt.figure(figsize=(14, 5))
plt.plot(df_smoothed['timestamp'], df_smoothed['P_hydr_kW'], label='hydr Power [kW]', color='blue', linewidth=1)
plt.plot(df_smoothed['timestamp'], df_smoothed['P_input_kW'], label='Input Power [kW]', color='magenta', linewidth=1)
plt.title('Hydraulic and Input Power Over Time')
plt.xlabel('Time')
plt.ylabel('Power [kW]')
plt.legend()
plt.grid(True)
plt.xticks(rotation=45)
plt.tight_layout()
plt.show()

# Diagramm 3: Power Loss Over Time
plt.figure(figsize=(14, 5))
plt.plot(df_smoothed['timestamp'], df_smoothed['Power_Loss_kW'], color='cyan', linewidth=1)
plt.title('Power Loss Over Time')
plt.xlabel('Time')
plt.ylabel('Power [kW]')
plt.grid(True)
plt.xticks(rotation=45)
plt.tight_layout()
plt.show()
